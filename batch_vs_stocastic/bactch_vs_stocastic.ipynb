{
 "cells": [
  {
   "cell_type": "code",
   "execution_count": 19,
   "id": "4139ea09",
   "metadata": {},
   "outputs": [],
   "source": [
    "import pandas as pd\n",
    "import numpy as np"
   ]
  },
  {
   "cell_type": "code",
   "execution_count": 20,
   "id": "498e7abb",
   "metadata": {},
   "outputs": [],
   "source": [
    "df = pd.read_csv('Social_Network_Ads.csv')"
   ]
  },
  {
   "cell_type": "code",
   "execution_count": 21,
   "id": "90a263a6",
   "metadata": {},
   "outputs": [
    {
     "data": {
      "text/html": [
       "<div>\n",
       "<style scoped>\n",
       "    .dataframe tbody tr th:only-of-type {\n",
       "        vertical-align: middle;\n",
       "    }\n",
       "\n",
       "    .dataframe tbody tr th {\n",
       "        vertical-align: top;\n",
       "    }\n",
       "\n",
       "    .dataframe thead th {\n",
       "        text-align: right;\n",
       "    }\n",
       "</style>\n",
       "<table border=\"1\" class=\"dataframe\">\n",
       "  <thead>\n",
       "    <tr style=\"text-align: right;\">\n",
       "      <th></th>\n",
       "      <th>Gender</th>\n",
       "      <th>Age</th>\n",
       "      <th>EstimatedSalary</th>\n",
       "      <th>Purchased</th>\n",
       "    </tr>\n",
       "  </thead>\n",
       "  <tbody>\n",
       "    <tr>\n",
       "      <th>0</th>\n",
       "      <td>Male</td>\n",
       "      <td>19</td>\n",
       "      <td>19000</td>\n",
       "      <td>0</td>\n",
       "    </tr>\n",
       "    <tr>\n",
       "      <th>1</th>\n",
       "      <td>Male</td>\n",
       "      <td>35</td>\n",
       "      <td>20000</td>\n",
       "      <td>0</td>\n",
       "    </tr>\n",
       "    <tr>\n",
       "      <th>2</th>\n",
       "      <td>Female</td>\n",
       "      <td>26</td>\n",
       "      <td>43000</td>\n",
       "      <td>0</td>\n",
       "    </tr>\n",
       "    <tr>\n",
       "      <th>3</th>\n",
       "      <td>Female</td>\n",
       "      <td>27</td>\n",
       "      <td>57000</td>\n",
       "      <td>0</td>\n",
       "    </tr>\n",
       "    <tr>\n",
       "      <th>4</th>\n",
       "      <td>Male</td>\n",
       "      <td>19</td>\n",
       "      <td>76000</td>\n",
       "      <td>0</td>\n",
       "    </tr>\n",
       "  </tbody>\n",
       "</table>\n",
       "</div>"
      ],
      "text/plain": [
       "   Gender  Age  EstimatedSalary  Purchased\n",
       "0    Male   19            19000          0\n",
       "1    Male   35            20000          0\n",
       "2  Female   26            43000          0\n",
       "3  Female   27            57000          0\n",
       "4    Male   19            76000          0"
      ]
     },
     "execution_count": 21,
     "metadata": {},
     "output_type": "execute_result"
    }
   ],
   "source": [
    "df.head()"
   ]
  },
  {
   "cell_type": "code",
   "execution_count": 22,
   "id": "24638415",
   "metadata": {},
   "outputs": [
    {
     "name": "stdout",
     "output_type": "stream",
     "text": [
      "<class 'pandas.core.frame.DataFrame'>\n",
      "RangeIndex: 400 entries, 0 to 399\n",
      "Data columns (total 4 columns):\n",
      " #   Column           Non-Null Count  Dtype \n",
      "---  ------           --------------  ----- \n",
      " 0   Gender           400 non-null    object\n",
      " 1   Age              400 non-null    int64 \n",
      " 2   EstimatedSalary  400 non-null    int64 \n",
      " 3   Purchased        400 non-null    int64 \n",
      "dtypes: int64(3), object(1)\n",
      "memory usage: 12.6+ KB\n"
     ]
    }
   ],
   "source": [
    "df.info()"
   ]
  },
  {
   "cell_type": "code",
   "execution_count": 23,
   "id": "abc32aad",
   "metadata": {},
   "outputs": [],
   "source": [
    "df['Gender'] = df['Gender'].map({'Male':1,'Female':0})"
   ]
  },
  {
   "cell_type": "code",
   "execution_count": 24,
   "id": "c6d980fb",
   "metadata": {},
   "outputs": [
    {
     "data": {
      "text/html": [
       "<div>\n",
       "<style scoped>\n",
       "    .dataframe tbody tr th:only-of-type {\n",
       "        vertical-align: middle;\n",
       "    }\n",
       "\n",
       "    .dataframe tbody tr th {\n",
       "        vertical-align: top;\n",
       "    }\n",
       "\n",
       "    .dataframe thead th {\n",
       "        text-align: right;\n",
       "    }\n",
       "</style>\n",
       "<table border=\"1\" class=\"dataframe\">\n",
       "  <thead>\n",
       "    <tr style=\"text-align: right;\">\n",
       "      <th></th>\n",
       "      <th>Gender</th>\n",
       "      <th>Age</th>\n",
       "      <th>EstimatedSalary</th>\n",
       "      <th>Purchased</th>\n",
       "    </tr>\n",
       "  </thead>\n",
       "  <tbody>\n",
       "    <tr>\n",
       "      <th>0</th>\n",
       "      <td>1</td>\n",
       "      <td>19</td>\n",
       "      <td>19000</td>\n",
       "      <td>0</td>\n",
       "    </tr>\n",
       "    <tr>\n",
       "      <th>1</th>\n",
       "      <td>1</td>\n",
       "      <td>35</td>\n",
       "      <td>20000</td>\n",
       "      <td>0</td>\n",
       "    </tr>\n",
       "    <tr>\n",
       "      <th>2</th>\n",
       "      <td>0</td>\n",
       "      <td>26</td>\n",
       "      <td>43000</td>\n",
       "      <td>0</td>\n",
       "    </tr>\n",
       "    <tr>\n",
       "      <th>3</th>\n",
       "      <td>0</td>\n",
       "      <td>27</td>\n",
       "      <td>57000</td>\n",
       "      <td>0</td>\n",
       "    </tr>\n",
       "    <tr>\n",
       "      <th>4</th>\n",
       "      <td>1</td>\n",
       "      <td>19</td>\n",
       "      <td>76000</td>\n",
       "      <td>0</td>\n",
       "    </tr>\n",
       "  </tbody>\n",
       "</table>\n",
       "</div>"
      ],
      "text/plain": [
       "   Gender  Age  EstimatedSalary  Purchased\n",
       "0       1   19            19000          0\n",
       "1       1   35            20000          0\n",
       "2       0   26            43000          0\n",
       "3       0   27            57000          0\n",
       "4       1   19            76000          0"
      ]
     },
     "execution_count": 24,
     "metadata": {},
     "output_type": "execute_result"
    }
   ],
   "source": [
    "df.head()"
   ]
  },
  {
   "cell_type": "code",
   "execution_count": 25,
   "id": "627891ce",
   "metadata": {},
   "outputs": [],
   "source": [
    "from sklearn.model_selection import train_test_split\n",
    "X = df.iloc[:,:3]\n",
    "y= df.iloc[:,-1]"
   ]
  },
  {
   "cell_type": "code",
   "execution_count": 26,
   "id": "56a7ba33",
   "metadata": {},
   "outputs": [
    {
     "data": {
      "text/html": [
       "<div>\n",
       "<style scoped>\n",
       "    .dataframe tbody tr th:only-of-type {\n",
       "        vertical-align: middle;\n",
       "    }\n",
       "\n",
       "    .dataframe tbody tr th {\n",
       "        vertical-align: top;\n",
       "    }\n",
       "\n",
       "    .dataframe thead th {\n",
       "        text-align: right;\n",
       "    }\n",
       "</style>\n",
       "<table border=\"1\" class=\"dataframe\">\n",
       "  <thead>\n",
       "    <tr style=\"text-align: right;\">\n",
       "      <th></th>\n",
       "      <th>Gender</th>\n",
       "      <th>Age</th>\n",
       "      <th>EstimatedSalary</th>\n",
       "    </tr>\n",
       "  </thead>\n",
       "  <tbody>\n",
       "    <tr>\n",
       "      <th>0</th>\n",
       "      <td>1</td>\n",
       "      <td>19</td>\n",
       "      <td>19000</td>\n",
       "    </tr>\n",
       "    <tr>\n",
       "      <th>1</th>\n",
       "      <td>1</td>\n",
       "      <td>35</td>\n",
       "      <td>20000</td>\n",
       "    </tr>\n",
       "    <tr>\n",
       "      <th>2</th>\n",
       "      <td>0</td>\n",
       "      <td>26</td>\n",
       "      <td>43000</td>\n",
       "    </tr>\n",
       "    <tr>\n",
       "      <th>3</th>\n",
       "      <td>0</td>\n",
       "      <td>27</td>\n",
       "      <td>57000</td>\n",
       "    </tr>\n",
       "    <tr>\n",
       "      <th>4</th>\n",
       "      <td>1</td>\n",
       "      <td>19</td>\n",
       "      <td>76000</td>\n",
       "    </tr>\n",
       "    <tr>\n",
       "      <th>...</th>\n",
       "      <td>...</td>\n",
       "      <td>...</td>\n",
       "      <td>...</td>\n",
       "    </tr>\n",
       "    <tr>\n",
       "      <th>395</th>\n",
       "      <td>0</td>\n",
       "      <td>46</td>\n",
       "      <td>41000</td>\n",
       "    </tr>\n",
       "    <tr>\n",
       "      <th>396</th>\n",
       "      <td>1</td>\n",
       "      <td>51</td>\n",
       "      <td>23000</td>\n",
       "    </tr>\n",
       "    <tr>\n",
       "      <th>397</th>\n",
       "      <td>0</td>\n",
       "      <td>50</td>\n",
       "      <td>20000</td>\n",
       "    </tr>\n",
       "    <tr>\n",
       "      <th>398</th>\n",
       "      <td>1</td>\n",
       "      <td>36</td>\n",
       "      <td>33000</td>\n",
       "    </tr>\n",
       "    <tr>\n",
       "      <th>399</th>\n",
       "      <td>0</td>\n",
       "      <td>49</td>\n",
       "      <td>36000</td>\n",
       "    </tr>\n",
       "  </tbody>\n",
       "</table>\n",
       "<p>400 rows × 3 columns</p>\n",
       "</div>"
      ],
      "text/plain": [
       "     Gender  Age  EstimatedSalary\n",
       "0         1   19            19000\n",
       "1         1   35            20000\n",
       "2         0   26            43000\n",
       "3         0   27            57000\n",
       "4         1   19            76000\n",
       "..      ...  ...              ...\n",
       "395       0   46            41000\n",
       "396       1   51            23000\n",
       "397       0   50            20000\n",
       "398       1   36            33000\n",
       "399       0   49            36000\n",
       "\n",
       "[400 rows x 3 columns]"
      ]
     },
     "execution_count": 26,
     "metadata": {},
     "output_type": "execute_result"
    }
   ],
   "source": [
    "X"
   ]
  },
  {
   "cell_type": "code",
   "execution_count": 27,
   "id": "1596417b",
   "metadata": {},
   "outputs": [],
   "source": [
    "# X_train,X_test, y_train, y_test = train_test_split(X,y, test_size=0.33, random_state =22)"
   ]
  },
  {
   "cell_type": "code",
   "execution_count": 28,
   "id": "9bc847eb",
   "metadata": {},
   "outputs": [],
   "source": [
    "from sklearn.preprocessing import StandardScaler\n",
    "scaler = StandardScaler()\n",
    "\n",
    "X_scaled = scaler.fit_transform(X)"
   ]
  },
  {
   "cell_type": "code",
   "execution_count": 38,
   "id": "2d449097",
   "metadata": {},
   "outputs": [
    {
     "data": {
      "text/plain": [
       "(400, 3)"
      ]
     },
     "execution_count": 38,
     "metadata": {},
     "output_type": "execute_result"
    }
   ],
   "source": [
    "X_scaled.shape"
   ]
  },
  {
   "cell_type": "code",
   "execution_count": 30,
   "id": "c3f6aee7",
   "metadata": {},
   "outputs": [],
   "source": [
    "import tensorflow as tf\n",
    "from tensorflow import keras\n",
    "from keras import Sequential\n",
    "from keras.layers import Dense"
   ]
  },
  {
   "cell_type": "code",
   "execution_count": 34,
   "id": "d8e4cc87",
   "metadata": {},
   "outputs": [],
   "source": [
    "model = Sequential()\n",
    "\n",
    "model.add(Dense(10,activation='relu',input_dim=3))\n",
    "model.add(Dense(10,activation='relu'))\n",
    "model.add(Dense(1,activation='sigmoid'))"
   ]
  },
  {
   "cell_type": "code",
   "execution_count": 35,
   "id": "9732b6c4",
   "metadata": {},
   "outputs": [
    {
     "name": "stdout",
     "output_type": "stream",
     "text": [
      "Model: \"sequential_2\"\n",
      "_________________________________________________________________\n",
      " Layer (type)                Output Shape              Param #   \n",
      "=================================================================\n",
      " dense_6 (Dense)             (None, 10)                40        \n",
      "                                                                 \n",
      " dense_7 (Dense)             (None, 10)                110       \n",
      "                                                                 \n",
      " dense_8 (Dense)             (None, 1)                 11        \n",
      "                                                                 \n",
      "=================================================================\n",
      "Total params: 161\n",
      "Trainable params: 161\n",
      "Non-trainable params: 0\n",
      "_________________________________________________________________\n"
     ]
    }
   ],
   "source": [
    "model.summary()"
   ]
  },
  {
   "cell_type": "code",
   "execution_count": 42,
   "id": "fd20d0ca",
   "metadata": {
    "scrolled": true
   },
   "outputs": [
    {
     "name": "stdout",
     "output_type": "stream",
     "text": [
      "Epoch 1/50\n",
      "320/320 [==============================] - 1s 1ms/step - loss: 0.3049 - accuracy: 0.8469 - val_loss: 0.3694 - val_accuracy: 0.8625\n",
      "Epoch 2/50\n",
      "320/320 [==============================] - 0s 1ms/step - loss: 0.3024 - accuracy: 0.8500 - val_loss: 0.3733 - val_accuracy: 0.8375\n",
      "Epoch 3/50\n",
      "320/320 [==============================] - 0s 1ms/step - loss: 0.3002 - accuracy: 0.8500 - val_loss: 0.3641 - val_accuracy: 0.8375\n",
      "Epoch 4/50\n",
      "320/320 [==============================] - 0s 1ms/step - loss: 0.2974 - accuracy: 0.8594 - val_loss: 0.3657 - val_accuracy: 0.8000\n",
      "Epoch 5/50\n",
      "320/320 [==============================] - 0s 1ms/step - loss: 0.2926 - accuracy: 0.8531 - val_loss: 0.3475 - val_accuracy: 0.8375\n",
      "Epoch 6/50\n",
      "320/320 [==============================] - 0s 1ms/step - loss: 0.2872 - accuracy: 0.8594 - val_loss: 0.3308 - val_accuracy: 0.8750\n",
      "Epoch 7/50\n",
      "320/320 [==============================] - 0s 1ms/step - loss: 0.2767 - accuracy: 0.8750 - val_loss: 0.3078 - val_accuracy: 0.9000\n",
      "Epoch 8/50\n",
      "320/320 [==============================] - 0s 1ms/step - loss: 0.2818 - accuracy: 0.8656 - val_loss: 0.2792 - val_accuracy: 0.9125\n",
      "Epoch 9/50\n",
      "320/320 [==============================] - 0s 1ms/step - loss: 0.2742 - accuracy: 0.8781 - val_loss: 0.2660 - val_accuracy: 0.9250\n",
      "Epoch 10/50\n",
      "320/320 [==============================] - 0s 1ms/step - loss: 0.2683 - accuracy: 0.8813 - val_loss: 0.2560 - val_accuracy: 0.9250\n",
      "Epoch 11/50\n",
      "320/320 [==============================] - 0s 1ms/step - loss: 0.2656 - accuracy: 0.8844 - val_loss: 0.2700 - val_accuracy: 0.9250\n",
      "Epoch 12/50\n",
      "320/320 [==============================] - 0s 1ms/step - loss: 0.2676 - accuracy: 0.8875 - val_loss: 0.2472 - val_accuracy: 0.9375\n",
      "Epoch 13/50\n",
      "320/320 [==============================] - 0s 1ms/step - loss: 0.2648 - accuracy: 0.8813 - val_loss: 0.2295 - val_accuracy: 0.9375\n",
      "Epoch 14/50\n",
      "320/320 [==============================] - 0s 1ms/step - loss: 0.2626 - accuracy: 0.8906 - val_loss: 0.2153 - val_accuracy: 0.9375\n",
      "Epoch 15/50\n",
      "320/320 [==============================] - 0s 1ms/step - loss: 0.2643 - accuracy: 0.8906 - val_loss: 0.2134 - val_accuracy: 0.9250\n",
      "Epoch 16/50\n",
      "320/320 [==============================] - 0s 1ms/step - loss: 0.2588 - accuracy: 0.8938 - val_loss: 0.2016 - val_accuracy: 0.9375\n",
      "Epoch 17/50\n",
      "320/320 [==============================] - 0s 1ms/step - loss: 0.2592 - accuracy: 0.8938 - val_loss: 0.1871 - val_accuracy: 0.9625\n",
      "Epoch 18/50\n",
      "320/320 [==============================] - 0s 1ms/step - loss: 0.2606 - accuracy: 0.8969 - val_loss: 0.1782 - val_accuracy: 0.9500\n",
      "Epoch 19/50\n",
      "320/320 [==============================] - 0s 1ms/step - loss: 0.2642 - accuracy: 0.8969 - val_loss: 0.1922 - val_accuracy: 0.9375\n",
      "Epoch 20/50\n",
      "320/320 [==============================] - 0s 1ms/step - loss: 0.2617 - accuracy: 0.8969 - val_loss: 0.1880 - val_accuracy: 0.9250\n",
      "Epoch 21/50\n",
      "320/320 [==============================] - 0s 1ms/step - loss: 0.2631 - accuracy: 0.8969 - val_loss: 0.1893 - val_accuracy: 0.9250\n",
      "Epoch 22/50\n",
      "320/320 [==============================] - 0s 1ms/step - loss: 0.2626 - accuracy: 0.9031 - val_loss: 0.1756 - val_accuracy: 0.9500\n",
      "Epoch 23/50\n",
      "320/320 [==============================] - 0s 1ms/step - loss: 0.2628 - accuracy: 0.8969 - val_loss: 0.1822 - val_accuracy: 0.9250\n",
      "Epoch 24/50\n",
      "320/320 [==============================] - 0s 1ms/step - loss: 0.2626 - accuracy: 0.9031 - val_loss: 0.1746 - val_accuracy: 0.9375\n",
      "Epoch 25/50\n",
      "320/320 [==============================] - 0s 1ms/step - loss: 0.2608 - accuracy: 0.9031 - val_loss: 0.1749 - val_accuracy: 0.9250\n",
      "Epoch 26/50\n",
      "320/320 [==============================] - 0s 1ms/step - loss: 0.2589 - accuracy: 0.9000 - val_loss: 0.1828 - val_accuracy: 0.9250\n",
      "Epoch 27/50\n",
      "320/320 [==============================] - 0s 1ms/step - loss: 0.2589 - accuracy: 0.9000 - val_loss: 0.1671 - val_accuracy: 0.9375\n",
      "Epoch 28/50\n",
      "320/320 [==============================] - 0s 1ms/step - loss: 0.2620 - accuracy: 0.9000 - val_loss: 0.1650 - val_accuracy: 0.9500\n",
      "Epoch 29/50\n",
      "320/320 [==============================] - 0s 1ms/step - loss: 0.2641 - accuracy: 0.9000 - val_loss: 0.1659 - val_accuracy: 0.9375\n",
      "Epoch 30/50\n",
      "320/320 [==============================] - 0s 1ms/step - loss: 0.2643 - accuracy: 0.9031 - val_loss: 0.1641 - val_accuracy: 0.9500\n",
      "Epoch 31/50\n",
      "320/320 [==============================] - 0s 1ms/step - loss: 0.2602 - accuracy: 0.9062 - val_loss: 0.1586 - val_accuracy: 0.9625\n",
      "Epoch 32/50\n",
      "320/320 [==============================] - 0s 1ms/step - loss: 0.2621 - accuracy: 0.9031 - val_loss: 0.1724 - val_accuracy: 0.9375\n",
      "Epoch 33/50\n",
      "320/320 [==============================] - 0s 1ms/step - loss: 0.2631 - accuracy: 0.9062 - val_loss: 0.1826 - val_accuracy: 0.9250\n",
      "Epoch 34/50\n",
      "320/320 [==============================] - 0s 1ms/step - loss: 0.2625 - accuracy: 0.9031 - val_loss: 0.1788 - val_accuracy: 0.9250\n",
      "Epoch 35/50\n",
      "320/320 [==============================] - 0s 1ms/step - loss: 0.2624 - accuracy: 0.9094 - val_loss: 0.1626 - val_accuracy: 0.9500\n",
      "Epoch 36/50\n",
      "320/320 [==============================] - 0s 1ms/step - loss: 0.2699 - accuracy: 0.9000 - val_loss: 0.1615 - val_accuracy: 0.9375\n",
      "Epoch 37/50\n",
      "320/320 [==============================] - 0s 1ms/step - loss: 0.2680 - accuracy: 0.9062 - val_loss: 0.1595 - val_accuracy: 0.9500\n",
      "Epoch 38/50\n",
      "320/320 [==============================] - 0s 1ms/step - loss: 0.2752 - accuracy: 0.9031 - val_loss: 0.1617 - val_accuracy: 0.9375\n",
      "Epoch 39/50\n",
      "320/320 [==============================] - 0s 1ms/step - loss: 0.2699 - accuracy: 0.9031 - val_loss: 0.1706 - val_accuracy: 0.9375\n",
      "Epoch 40/50\n",
      "320/320 [==============================] - 0s 1ms/step - loss: 0.2658 - accuracy: 0.9031 - val_loss: 0.1631 - val_accuracy: 0.9375\n",
      "Epoch 41/50\n",
      "320/320 [==============================] - 0s 1ms/step - loss: 0.2654 - accuracy: 0.9094 - val_loss: 0.1624 - val_accuracy: 0.9500\n",
      "Epoch 42/50\n",
      "320/320 [==============================] - 0s 1ms/step - loss: 0.2693 - accuracy: 0.9031 - val_loss: 0.1683 - val_accuracy: 0.9375\n",
      "Epoch 43/50\n",
      "320/320 [==============================] - 0s 1ms/step - loss: 0.2673 - accuracy: 0.9062 - val_loss: 0.1624 - val_accuracy: 0.9375\n",
      "Epoch 44/50\n",
      "320/320 [==============================] - 0s 1ms/step - loss: 0.2648 - accuracy: 0.9031 - val_loss: 0.1543 - val_accuracy: 0.9625\n",
      "Epoch 45/50\n",
      "320/320 [==============================] - 0s 1ms/step - loss: 0.2711 - accuracy: 0.9062 - val_loss: 0.1812 - val_accuracy: 0.9250\n",
      "Epoch 46/50\n",
      "320/320 [==============================] - 0s 1ms/step - loss: 0.2697 - accuracy: 0.9062 - val_loss: 0.1709 - val_accuracy: 0.9375\n",
      "Epoch 47/50\n",
      "320/320 [==============================] - 0s 1ms/step - loss: 0.2705 - accuracy: 0.9094 - val_loss: 0.1720 - val_accuracy: 0.9250\n",
      "Epoch 48/50\n",
      "320/320 [==============================] - 0s 1ms/step - loss: 0.2699 - accuracy: 0.9062 - val_loss: 0.1748 - val_accuracy: 0.9375\n",
      "Epoch 49/50\n",
      "320/320 [==============================] - 0s 1ms/step - loss: 0.2656 - accuracy: 0.9062 - val_loss: 0.1723 - val_accuracy: 0.9375\n",
      "Epoch 50/50\n",
      "320/320 [==============================] - 0s 1ms/step - loss: 0.2644 - accuracy: 0.9125 - val_loss: 0.1826 - val_accuracy: 0.9250\n"
     ]
    }
   ],
   "source": [
    "model.compile(loss='binary_crossentropy',metrics=['accuracy'])\n",
    "history = model.fit(X_scaled,y,epochs=50,batch_size=1,validation_split=0.2)"
   ]
  },
  {
   "cell_type": "code",
   "execution_count": 48,
   "id": "6af802f7",
   "metadata": {
    "scrolled": true
   },
   "outputs": [
    {
     "data": {
      "text/plain": [
       "[<matplotlib.lines.Line2D at 0x7f20bf1d3c70>]"
      ]
     },
     "execution_count": 48,
     "metadata": {},
     "output_type": "execute_result"
    },
    {
     "data": {
      "image/png": "[encoded data removed]",
      "text/plain": [
       "<Figure size 640x480 with 1 Axes>"
      ]
     },
     "metadata": {},
     "output_type": "display_data"
    }
   ],
   "source": [
    "import matplotlib.pyplot as plt\n",
    "plt.plot(history.history['accuracy'])\n",
    "plt.plot(history.history['val_accuracy'])"
   ]
  },
  {
   "cell_type": "code",
   "execution_count": 47,
   "id": "26023c79",
   "metadata": {},
   "outputs": [
    {
     "data": {
      "text/plain": [
       "[<matplotlib.lines.Line2D at 0x7f20bf278730>]"
      ]
     },
     "execution_count": 47,
     "metadata": {},
     "output_type": "execute_result"
    },
    {
     "data": {
      "image/png": "[encoded data removed]",
      "text/plain": [
       "<Figure size 640x480 with 1 Axes>"
      ]
     },
     "metadata": {},
     "output_type": "display_data"
    }
   ],
   "source": [
    "plt.plot(history.history['loss'])"
   ]
  },
  {
   "cell_type": "code",
   "execution_count": 52,
   "id": "081e10b7",
   "metadata": {},
   "outputs": [],
   "source": [
    " batch_model = Sequential()\n",
    "    \n",
    "batch_model.add(Dense(10, activation = 'relu',input_dim=3 ))\n",
    "batch_model.add(Dense(10, activation = 'relu'))\n",
    "batch_model.add(Dense(1, activation = 'sigmoid' ))"
   ]
  },
  {
   "cell_type": "code",
   "execution_count": 58,
   "id": "1e39fc64",
   "metadata": {},
   "outputs": [
    {
     "name": "stdout",
     "output_type": "stream",
     "text": [
      "Epoch 1/50\n",
      "1/1 [==============================] - 0s 473ms/step - loss: 0.5581 - accuracy: 0.7531 - val_loss: 0.7701 - val_accuracy: 0.4500\n",
      "Epoch 2/50\n",
      "1/1 [==============================] - 0s 25ms/step - loss: 0.5492 - accuracy: 0.7656 - val_loss: 0.7663 - val_accuracy: 0.4500\n",
      "Epoch 3/50\n",
      "1/1 [==============================] - 0s 24ms/step - loss: 0.5431 - accuracy: 0.7688 - val_loss: 0.7631 - val_accuracy: 0.4375\n",
      "Epoch 4/50\n",
      "1/1 [==============================] - 0s 24ms/step - loss: 0.5382 - accuracy: 0.7594 - val_loss: 0.7602 - val_accuracy: 0.4375\n",
      "Epoch 5/50\n",
      "1/1 [==============================] - 0s 24ms/step - loss: 0.5339 - accuracy: 0.7594 - val_loss: 0.7576 - val_accuracy: 0.4375\n",
      "Epoch 6/50\n",
      "1/1 [==============================] - 0s 25ms/step - loss: 0.5301 - accuracy: 0.7594 - val_loss: 0.7551 - val_accuracy: 0.4375\n",
      "Epoch 7/50\n",
      "1/1 [==============================] - 0s 24ms/step - loss: 0.5266 - accuracy: 0.7594 - val_loss: 0.7526 - val_accuracy: 0.4375\n",
      "Epoch 8/50\n",
      "1/1 [==============================] - 0s 23ms/step - loss: 0.5234 - accuracy: 0.7594 - val_loss: 0.7503 - val_accuracy: 0.4375\n",
      "Epoch 9/50\n",
      "1/1 [==============================] - 0s 20ms/step - loss: 0.5203 - accuracy: 0.7625 - val_loss: 0.7480 - val_accuracy: 0.4375\n",
      "Epoch 10/50\n",
      "1/1 [==============================] - 0s 26ms/step - loss: 0.5174 - accuracy: 0.7625 - val_loss: 0.7457 - val_accuracy: 0.4375\n",
      "Epoch 11/50\n",
      "1/1 [==============================] - 0s 28ms/step - loss: 0.5146 - accuracy: 0.7594 - val_loss: 0.7434 - val_accuracy: 0.4500\n",
      "Epoch 12/50\n",
      "1/1 [==============================] - 0s 27ms/step - loss: 0.5119 - accuracy: 0.7594 - val_loss: 0.7412 - val_accuracy: 0.4625\n",
      "Epoch 13/50\n",
      "1/1 [==============================] - 0s 24ms/step - loss: 0.5093 - accuracy: 0.7625 - val_loss: 0.7390 - val_accuracy: 0.4750\n",
      "Epoch 14/50\n",
      "1/1 [==============================] - 0s 27ms/step - loss: 0.5068 - accuracy: 0.7625 - val_loss: 0.7368 - val_accuracy: 0.5125\n",
      "Epoch 15/50\n",
      "1/1 [==============================] - 0s 26ms/step - loss: 0.5044 - accuracy: 0.7625 - val_loss: 0.7345 - val_accuracy: 0.5125\n",
      "Epoch 16/50\n",
      "1/1 [==============================] - 0s 27ms/step - loss: 0.5020 - accuracy: 0.7594 - val_loss: 0.7322 - val_accuracy: 0.5250\n",
      "Epoch 17/50\n",
      "1/1 [==============================] - 0s 25ms/step - loss: 0.4996 - accuracy: 0.7594 - val_loss: 0.7301 - val_accuracy: 0.5250\n",
      "Epoch 18/50\n",
      "1/1 [==============================] - 0s 26ms/step - loss: 0.4973 - accuracy: 0.7625 - val_loss: 0.7279 - val_accuracy: 0.5250\n",
      "Epoch 19/50\n",
      "1/1 [==============================] - 0s 22ms/step - loss: 0.4951 - accuracy: 0.7688 - val_loss: 0.7257 - val_accuracy: 0.5250\n",
      "Epoch 20/50\n",
      "1/1 [==============================] - 0s 27ms/step - loss: 0.4929 - accuracy: 0.7719 - val_loss: 0.7234 - val_accuracy: 0.5250\n",
      "Epoch 21/50\n",
      "1/1 [==============================] - 0s 25ms/step - loss: 0.4907 - accuracy: 0.7750 - val_loss: 0.7212 - val_accuracy: 0.5750\n",
      "Epoch 22/50\n",
      "1/1 [==============================] - 0s 25ms/step - loss: 0.4886 - accuracy: 0.7750 - val_loss: 0.7189 - val_accuracy: 0.5750\n",
      "Epoch 23/50\n",
      "1/1 [==============================] - 0s 25ms/step - loss: 0.4865 - accuracy: 0.7750 - val_loss: 0.7165 - val_accuracy: 0.5750\n",
      "Epoch 24/50\n",
      "1/1 [==============================] - 0s 23ms/step - loss: 0.4844 - accuracy: 0.7750 - val_loss: 0.7141 - val_accuracy: 0.5875\n",
      "Epoch 25/50\n",
      "1/1 [==============================] - 0s 27ms/step - loss: 0.4823 - accuracy: 0.7750 - val_loss: 0.7118 - val_accuracy: 0.5875\n",
      "Epoch 26/50\n",
      "1/1 [==============================] - 0s 23ms/step - loss: 0.4803 - accuracy: 0.7750 - val_loss: 0.7095 - val_accuracy: 0.5875\n",
      "Epoch 27/50\n",
      "1/1 [==============================] - 0s 25ms/step - loss: 0.4783 - accuracy: 0.7781 - val_loss: 0.7073 - val_accuracy: 0.5875\n",
      "Epoch 28/50\n",
      "1/1 [==============================] - 0s 26ms/step - loss: 0.4763 - accuracy: 0.7781 - val_loss: 0.7050 - val_accuracy: 0.6000\n",
      "Epoch 29/50\n",
      "1/1 [==============================] - 0s 24ms/step - loss: 0.4743 - accuracy: 0.7781 - val_loss: 0.7027 - val_accuracy: 0.6000\n",
      "Epoch 30/50\n",
      "1/1 [==============================] - 0s 27ms/step - loss: 0.4724 - accuracy: 0.7781 - val_loss: 0.7005 - val_accuracy: 0.6125\n",
      "Epoch 31/50\n",
      "1/1 [==============================] - 0s 26ms/step - loss: 0.4705 - accuracy: 0.7781 - val_loss: 0.6982 - val_accuracy: 0.6250\n",
      "Epoch 32/50\n",
      "1/1 [==============================] - 0s 27ms/step - loss: 0.4686 - accuracy: 0.7781 - val_loss: 0.6959 - val_accuracy: 0.6250\n",
      "Epoch 33/50\n",
      "1/1 [==============================] - 0s 28ms/step - loss: 0.4667 - accuracy: 0.7844 - val_loss: 0.6937 - val_accuracy: 0.6250\n",
      "Epoch 34/50\n",
      "1/1 [==============================] - 0s 26ms/step - loss: 0.4649 - accuracy: 0.7844 - val_loss: 0.6915 - val_accuracy: 0.6250\n",
      "Epoch 35/50\n",
      "1/1 [==============================] - 0s 26ms/step - loss: 0.4631 - accuracy: 0.7844 - val_loss: 0.6893 - val_accuracy: 0.6250\n",
      "Epoch 36/50\n",
      "1/1 [==============================] - 0s 26ms/step - loss: 0.4613 - accuracy: 0.7844 - val_loss: 0.6871 - val_accuracy: 0.6250\n",
      "Epoch 37/50\n",
      "1/1 [==============================] - 0s 27ms/step - loss: 0.4595 - accuracy: 0.7844 - val_loss: 0.6848 - val_accuracy: 0.6250\n",
      "Epoch 38/50\n",
      "1/1 [==============================] - 0s 27ms/step - loss: 0.4577 - accuracy: 0.7875 - val_loss: 0.6826 - val_accuracy: 0.6250\n",
      "Epoch 39/50\n",
      "1/1 [==============================] - 0s 25ms/step - loss: 0.4559 - accuracy: 0.7906 - val_loss: 0.6804 - val_accuracy: 0.6375\n",
      "Epoch 40/50\n",
      "1/1 [==============================] - 0s 27ms/step - loss: 0.4542 - accuracy: 0.7906 - val_loss: 0.6783 - val_accuracy: 0.6500\n",
      "Epoch 41/50\n",
      "1/1 [==============================] - 0s 25ms/step - loss: 0.4525 - accuracy: 0.7906 - val_loss: 0.6761 - val_accuracy: 0.6500\n",
      "Epoch 42/50\n",
      "1/1 [==============================] - 0s 27ms/step - loss: 0.4507 - accuracy: 0.7906 - val_loss: 0.6740 - val_accuracy: 0.6500\n",
      "Epoch 43/50\n",
      "1/1 [==============================] - 0s 28ms/step - loss: 0.4490 - accuracy: 0.7937 - val_loss: 0.6718 - val_accuracy: 0.6500\n",
      "Epoch 44/50\n",
      "1/1 [==============================] - 0s 23ms/step - loss: 0.4473 - accuracy: 0.7937 - val_loss: 0.6696 - val_accuracy: 0.6500\n",
      "Epoch 45/50\n",
      "1/1 [==============================] - 0s 23ms/step - loss: 0.4457 - accuracy: 0.7937 - val_loss: 0.6675 - val_accuracy: 0.6500\n",
      "Epoch 46/50\n",
      "1/1 [==============================] - 0s 23ms/step - loss: 0.4440 - accuracy: 0.7937 - val_loss: 0.6654 - val_accuracy: 0.6500\n",
      "Epoch 47/50\n",
      "1/1 [==============================] - 0s 24ms/step - loss: 0.4423 - accuracy: 0.7937 - val_loss: 0.6633 - val_accuracy: 0.6500\n",
      "Epoch 48/50\n",
      "1/1 [==============================] - 0s 25ms/step - loss: 0.4407 - accuracy: 0.7937 - val_loss: 0.6612 - val_accuracy: 0.6500\n",
      "Epoch 49/50\n",
      "1/1 [==============================] - 0s 24ms/step - loss: 0.4390 - accuracy: 0.7937 - val_loss: 0.6592 - val_accuracy: 0.6500\n",
      "Epoch 50/50\n",
      "1/1 [==============================] - 0s 24ms/step - loss: 0.4374 - accuracy: 0.7937 - val_loss: 0.6572 - val_accuracy: 0.6500\n"
     ]
    }
   ],
   "source": [
    "batch_model.compile(loss = 'binary_crossentropy', metrics = ['accuracy'])\n",
    "batch_history = batch_model.fit(X_scaled,y, epochs=50, batch_size=400, validation_split=0.2)"
   ]
  },
  {
   "cell_type": "code",
   "execution_count": 63,
   "id": "e2eae46e",
   "metadata": {},
   "outputs": [
    {
     "data": {
      "text/plain": [
       "[<matplotlib.lines.Line2D at 0x7f20de75a220>]"
      ]
     },
     "execution_count": 63,
     "metadata": {},
     "output_type": "execute_result"
    },
    {
     "data": {
      "image/png": "[encoded data removed]",
      "text/plain": [
       "<Figure size 640x480 with 1 Axes>"
      ]
     },
     "metadata": {},
     "output_type": "display_data"
    }
   ],
   "source": [
    "plt.plot(batch_history.history['accuracy'])\n",
    "plt.plot(batch_history.history['val_accuracy'])"
   ]
  },
  {
   "cell_type": "code",
   "execution_count": null,
   "id": "a457900a",
   "metadata": {},
   "outputs": [],
   "source": []
  }
 ],
 "metadata": {
  "kernelspec": {
   "display_name": "Python 3 (ipykernel)",
   "language": "python",
   "name": "python3"
  },
  "language_info": {
   "codemirror_mode": {
    "name": "ipython",
    "version": 3
   },
   "file_extension": ".py",
   "mimetype": "text/x-python",
   "name": "python",
   "nbconvert_exporter": "python",
   "pygments_lexer": "ipython3",
   "version": "3.9.13"
  }
 },
 "nbformat": 4,
 "nbformat_minor": 5
}
